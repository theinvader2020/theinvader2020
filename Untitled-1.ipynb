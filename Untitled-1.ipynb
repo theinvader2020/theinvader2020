{
 "cells": [
  {
   "cell_type": "code",
   "execution_count": 8,
   "metadata": {},
   "outputs": [
    {
     "name": "stdout",
     "output_type": "stream",
     "text": [
      "50\n",
      "COCO\n",
      "2\n",
      "110\n"
     ]
    }
   ],
   "source": [
    "class Person:\n",
    "   id = 1\n",
    "   wight = 0\n",
    "   Color='White'\n",
    "   def __init__(self,id,wight,Color):\n",
    "      id = input('ID : ')\n",
    "      print(id)\n",
    "      print(Color)\n",
    "      print(wight)\n",
    "   def Big(self,id):\n",
    "      print(str(id*10))\n",
    "\n",
    "Person1=Person(5,2,'COCO')\n",
    "Person1.Big(11)"
   ]
  },
  {
   "cell_type": "code",
   "execution_count": null,
   "metadata": {},
   "outputs": [],
   "source": []
  }
 ],
 "metadata": {
  "interpreter": {
   "hash": "c7fb3d13cdab5938c521d1b740b65cbb7d5ab43f5157ba37c5cecbd8029bf4a9"
  },
  "kernelspec": {
   "display_name": "Python 3.10.4 64-bit",
   "language": "python",
   "name": "python3"
  },
  "language_info": {
   "codemirror_mode": {
    "name": "ipython",
    "version": 3
   },
   "file_extension": ".py",
   "mimetype": "text/x-python",
   "name": "python",
   "nbconvert_exporter": "python",
   "pygments_lexer": "ipython3",
   "version": "3.10.4"
  },
  "orig_nbformat": 4
 },
 "nbformat": 4,
 "nbformat_minor": 2
}
